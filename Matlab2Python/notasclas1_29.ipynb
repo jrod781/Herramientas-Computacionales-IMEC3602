{
  "cells": [
    {
      "cell_type": "code",
      "source": [
        "from numpy import linspace\n",
        "\n"
      ],
      "outputs": [],
      "execution_count": 1,
      "metadata": {
        "collapsed": false,
        "outputHidden": false,
        "inputHidden": false
      }
    },
    {
      "cell_type": "markdown",
      "source": [
        "#Pylab#\n",
        "Cuadra el ambiente con numpy y matplotlib como "
      ],
      "metadata": {}
    },
    {
      "cell_type": "code",
      "source": [
        "%pylab inline"
      ],
      "outputs": [
        {
          "output_type": "stream",
          "name": "stdout",
          "text": [
            "Populating the interactive namespace from numpy and matplotlib\n"
          ]
        }
      ],
      "execution_count": 2,
      "metadata": {
        "collapsed": false,
        "outputHidden": false,
        "inputHidden": false
      }
    },
    {
      "cell_type": "code",
      "source": [
        "x=np.random.rand(10,2)\n",
        "print(x)\n",
        "print(type(x))"
      ],
      "outputs": [
        {
          "output_type": "stream",
          "name": "stdout",
          "text": [
            "[[ 0.94701529  0.9818175 ]\n",
            " [ 0.16696898  0.01786012]\n",
            " [ 0.8434325   0.57334408]\n",
            " [ 0.45031817  0.19541336]\n",
            " [ 0.22911023  0.70729744]\n",
            " [ 0.92723161  0.78477967]\n",
            " [ 0.62406549  0.74378685]\n",
            " [ 0.58533373  0.10674719]\n",
            " [ 0.28582851  0.18300586]\n",
            " [ 0.70615861  0.41801573]]\n",
            "<class 'numpy.ndarray'>\n"
          ]
        }
      ],
      "execution_count": 7,
      "metadata": {}
    },
    {
      "cell_type": "code",
      "source": [
        "print(x[1:3,1])"
      ],
      "outputs": [
        {
          "output_type": "stream",
          "name": "stdout",
          "text": [
            "[ 0.01786012  0.57334408]\n"
          ]
        }
      ],
      "execution_count": 10,
      "metadata": {
        "collapsed": false,
        "outputHidden": false,
        "inputHidden": false
      }
    },
    {
      "cell_type": "code",
      "source": [],
      "outputs": [],
      "execution_count": null,
      "metadata": {
        "collapsed": false,
        "outputHidden": false,
        "inputHidden": false
      }
    }
  ],
  "metadata": {
    "kernelspec": {
      "name": "python3",
      "language": "python",
      "display_name": "Python 3"
    },
    "kernel_info": {
      "name": "python3"
    },
    "language_info": {
      "version": "3.5.2",
      "codemirror_mode": {
        "name": "ipython",
        "version": 3
      },
      "file_extension": ".py",
      "mimetype": "text/x-python",
      "name": "python",
      "pygments_lexer": "ipython3",
      "nbconvert_exporter": "python"
    },
    "nteract": {
      "version": "0.6.2"
    }
  },
  "nbformat": 4,
  "nbformat_minor": 4
}