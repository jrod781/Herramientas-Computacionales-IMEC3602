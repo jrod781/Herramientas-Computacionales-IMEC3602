{
  "cells": [
    {
      "cell_type": "markdown",
      "source": [
        "#Empecemos con algo"
      ],
      "metadata": {
        "collapsed": false,
        "outputHidden": false,
        "inputHidden": false
      }
    },
    {
      "cell_type": "code",
      "source": [
        "import os\n",
        "import pandas as pd \n",
        "%pylab inline"
      ],
      "outputs": [
        {
          "output_type": "stream",
          "name": "stdout",
          "text": [
            "Populating the interactive namespace from numpy and matplotlib\n"
          ]
        }
      ],
      "execution_count": 1,
      "metadata": {}
    },
    {
      "cell_type": "markdown",
      "source": [
        "En el siguiente código para importar toda la información de una ciudad"
      ],
      "metadata": {}
    },
    {
      "cell_type": "code",
      "source": [
        "base_dir=os.path.join('.','data')\n",
        "output_dir=os.path.join('.','output')\n",
        "ciudad='Valledupar'\n",
        "fuente='IDEAM'\n",
        "serie_csv=os.path.join(base_dir,ciudad,fuente+'.csv')\n",
        "serie_pd= pd.read_csv(serie_csv,sep=';',encoding='latin-1')"
      ],
      "outputs": [],
      "execution_count": 2,
      "metadata": {
        "collapsed": false,
        "outputHidden": false,
        "inputHidden": false
      }
    },
    {
      "cell_type": "markdown",
      "source": [
        "Se genera una funcion que saque el GHI total cada mes y el GHI diario"
      ],
      "metadata": {}
    },
    {
      "cell_type": "code",
      "source": [
        "def ghi_por_mes(serie_horaria):\n",
        "    #Se obtienen las lista de los diferentes años\n",
        "    agnos=sorted(serie_horaria['AÑO'].unique())\n",
        "    meses=sorted(serie_horaria['MES'].unique())\n",
        "    #Se crea un nuevo DATAFRAME donde se tendra la energia por mes\n",
        "    ghi_df=pd.DataFrame(columns=['AÑO','MES','DIAS','GHImes','GHIdiario'])\n",
        "     #AÑO\n",
        "    for agno in agnos:\n",
        "        for mes in meses:\n",
        "           #OBTENER la ultima columna (energia)\n",
        "            n_energia=list(serie_horaria)[-1]\n",
        "            #Los dias del agno y mes actual (valores unicos)\n",
        "            dias=serie_horaria[(serie_horaria['AÑO']==agno)&(serie_horaria['MES']==mes)][\"DIA\"].unique()\n",
        "            #Energia por metro GHI*1hora [kWh]\n",
        "            ghi_mes=serie_horaria.loc[(serie_horaria[\"AÑO\"]==agno) & (serie_horaria['MES']==mes),n_energia].sum()/1000\n",
        "            ghi_dia=ghi_mes/max(dias)\n",
        "            #Se crea un diccionario de los datos recolectado para obtener el nuevo dataframe\n",
        "            ghi_dict={\"AÑO\":agno, \"MES\":mes, \"DIAS\":max(dias),\n",
        "                        \"GHImes\":ghi_mes,'GHIdiario':ghi_dia}\n",
        "            #Se anexa el diccionario al final del dataframe que se esta creando\n",
        "            ghi_df=ghi_df.append(ghi_dict,ignore_index=True)\n",
        "    return ghi_df\n",
        "\n"
      ],
      "outputs": [],
      "execution_count": 3,
      "metadata": {
        "collapsed": false,
        "outputHidden": false,
        "inputHidden": false
      }
    },
    {
      "cell_type": "code",
      "source": [
        "ghi_mensual=ghi_por_mes(serie_pd)\n",
        "print(ghi_mensual)"
      ],
      "outputs": [
        {
          "output_type": "stream",
          "name": "stdout",
          "text": [
            "        AÑO   MES  DIAS      GHImes  GHIdiario\n",
            "0    2006.0   1.0  31.0  168.218469   5.426402\n",
            "1    2006.0   2.0  28.0  169.396030   6.049858\n",
            "2    2006.0   3.0  31.0  173.663512   5.602049\n",
            "3    2006.0   4.0  30.0  160.564778   5.352159\n",
            "4    2006.0   5.0  31.0  173.751526   5.604888\n",
            "5    2006.0   6.0  30.0  168.064743   5.602158\n",
            "6    2006.0   7.0  31.0  166.235127   5.362423\n",
            "7    2006.0   8.0  31.0  176.194425   5.683691\n",
            "8    2006.0   9.0  30.0  156.354936   5.211831\n",
            "9    2006.0  10.0  31.0  158.718576   5.119954\n",
            "10   2006.0  11.0  30.0  157.510446   5.250348\n",
            "11   2006.0  12.0  31.0  168.424594   5.433051\n",
            "12   2007.0   1.0  31.0  172.814381   5.574657\n",
            "13   2007.0   2.0  28.0  168.544357   6.019441\n",
            "14   2007.0   3.0  31.0  171.731213   5.539717\n",
            "15   2007.0   4.0  30.0  170.740638   5.691355\n",
            "16   2007.0   5.0  31.0  153.016178   4.936006\n",
            "17   2007.0   6.0  30.0  178.492799   5.949760\n",
            "18   2007.0   7.0  31.0  177.637524   5.730243\n",
            "19   2007.0   8.0  31.0  161.989606   5.225471\n",
            "20   2007.0   9.0  30.0  152.289438   5.076315\n",
            "21   2007.0  10.0  31.0  148.938364   4.804463\n",
            "22   2007.0  11.0  30.0  150.449901   5.014997\n",
            "23   2007.0  12.0  31.0  168.125568   5.423405\n",
            "24   2008.0   1.0  31.0  177.507054   5.726034\n",
            "25   2008.0   2.0  29.0  168.913174   5.824592\n",
            "26   2008.0   3.0  31.0  169.689365   5.473850\n",
            "27   2008.0   4.0  30.0  170.498827   5.683294\n",
            "28   2008.0   5.0  31.0  167.778712   5.412217\n",
            "29   2008.0   6.0  30.0  166.399903   5.546663\n",
            "..      ...   ...   ...         ...        ...\n",
            "90   2013.0   7.0  31.0  174.647436   5.633788\n",
            "91   2013.0   8.0  31.0  157.121808   5.068445\n",
            "92   2013.0   9.0  30.0  138.881401   4.629380\n",
            "93   2013.0  10.0  31.0  148.997727   4.806378\n",
            "94   2013.0  11.0  30.0  150.195147   5.006505\n",
            "95   2013.0  12.0  31.0  146.052872   4.711383\n",
            "96   2014.0   1.0  31.0  150.789504   4.864178\n",
            "97   2014.0   2.0  28.0  143.376577   5.120592\n",
            "98   2014.0   3.0  31.0  164.982068   5.322002\n",
            "99   2014.0   4.0  30.0  161.996679   5.399889\n",
            "100  2014.0   5.0  31.0  174.760583   5.637438\n",
            "101  2014.0   6.0  30.0  170.783388   5.692780\n",
            "102  2014.0   7.0  31.0  181.665837   5.860188\n",
            "103  2014.0   8.0  31.0  175.798643   5.670924\n",
            "104  2014.0   9.0  30.0  164.199698   5.473323\n",
            "105  2014.0  10.0  31.0  151.077508   4.873468\n",
            "106  2014.0  11.0  30.0  162.392442   5.413081\n",
            "107  2014.0  12.0  31.0  170.725035   5.507259\n",
            "108  2015.0   1.0  31.0  184.151748   5.940379\n",
            "109  2015.0   2.0  28.0  182.985934   6.535212\n",
            "110  2015.0   3.0  31.0  213.319310   6.881268\n",
            "111  2015.0   4.0  30.0  193.181442   6.439381\n",
            "112  2015.0   5.0  31.0  189.148607   6.101568\n",
            "113  2015.0   6.0  30.0  204.786213   6.826207\n",
            "114  2015.0   7.0  31.0  204.462663   6.595570\n",
            "115  2015.0   8.0  31.0  199.112662   6.422989\n",
            "116  2015.0   9.0  30.0  192.974777   6.432493\n",
            "117  2015.0  10.0  31.0  176.733802   5.701090\n",
            "118  2015.0  11.0  30.0  157.434724   5.247824\n",
            "119  2015.0  12.0  31.0  170.540367   5.501302\n",
            "\n",
            "[120 rows x 5 columns]\n"
          ]
        }
      ],
      "execution_count": 5,
      "metadata": {
        "collapsed": false,
        "outputHidden": false,
        "inputHidden": false
      }
    },
    {
      "cell_type": "code",
      "source": [],
      "outputs": [],
      "execution_count": null,
      "metadata": {
        "collapsed": false,
        "outputHidden": false,
        "inputHidden": false
      }
    }
  ],
  "metadata": {
    "kernelspec": {
      "name": "python3",
      "language": "python",
      "display_name": "Python 3"
    },
    "kernel_info": {
      "name": "python3"
    },
    "language_info": {
      "pygments_lexer": "ipython3",
      "file_extension": ".py",
      "mimetype": "text/x-python",
      "nbconvert_exporter": "python",
      "name": "python",
      "codemirror_mode": {
        "version": 3,
        "name": "ipython"
      },
      "version": "3.5.2"
    },
    "nteract": {
      "version": "0.6.2"
    }
  },
  "nbformat": 4,
  "nbformat_minor": 4
}