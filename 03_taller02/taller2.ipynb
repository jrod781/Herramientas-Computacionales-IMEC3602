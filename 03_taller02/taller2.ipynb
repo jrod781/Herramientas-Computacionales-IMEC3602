{
  "cells": [
    {
      "cell_type": "code",
      "source": [],
      "outputs": [],
      "execution_count": null,
      "metadata": {
        "collapsed": false,
        "outputHidden": false,
        "inputHidden": false
      }
    },
    {
      "cell_type": "markdown",
      "source": [
        "# Variables y constantes\n",
        "Datos llantas"
      ],
      "metadata": {}
    },
    {
      "cell_type": "code",
      "source": [
        "rll=0.139 # Radio geometrico de las llantas traseras [m]\n",
        "refc=0.98*rll # Radio efectivo llantas traseras [m]\n",
        "rin=0.0631  #Radio interno de neum'atico [m]"
      ],
      "outputs": [],
      "execution_count": 1,
      "metadata": {
        "collapsed": false,
        "outputHidden": false,
        "inputHidden": false
      }
    },
    {
      "cell_type": "markdown",
      "source": [
        "Datos Transmision "
      ],
      "metadata": {}
    },
    {
      "cell_type": "code",
      "source": [
        "dp=11 #Dientes del piñon\n",
        "dpl=39 #Dientes del plato\n",
        "ng=dpl/dp #Relacion de Transmision \n",
        "etaf=0.95 #Eficiencia de transmision "
      ],
      "outputs": [],
      "execution_count": 2,
      "metadata": {
        "collapsed": false,
        "outputHidden": false,
        "inputHidden": false
      }
    },
    {
      "cell_type": "markdown",
      "source": [
        "Datos eje llantas"
      ],
      "metadata": {}
    },
    {
      "cell_type": "code",
      "source": [
        "reje=0.02  #Radio eje de las llantas [m]\n",
        "meje=3.832 #Masa del eje (kg)"
      ],
      "outputs": [],
      "execution_count": null,
      "metadata": {
        "collapsed": false,
        "outputHidden": false,
        "inputHidden": false
      }
    },
    {
      "cell_type": "markdown",
      "source": [
        "Datos Kart general"
      ],
      "metadata": {}
    },
    {
      "cell_type": "code",
      "source": [
        "masa=152.0 #Masa kart [kg]\n",
        "g=9.81 #Gravedad [m/s]\n",
        "w=masa*g #Peso del kart [N]\n"
      ],
      "outputs": [],
      "execution_count": null,
      "metadata": {
        "collapsed": false,
        "outputHidden": false,
        "inputHidden": false
      }
    },
    {
      "cell_type": "markdown",
      "source": [
        "Datos Fuerzas de la formula de aceleracion "
      ],
      "metadata": {}
    },
    {
      "cell_type": "code",
      "source": [
        "rho=1.1955 # densidad del aira [kg/m^3]\n",
        "dll=0.975 #Distancia entre llantas delanteras (m)\n",
        "alj=0.88 #Altura con el piloto sentado en el kart (estatura 1.68 m )[m]\n",
        "af=(dll*alj)/2 #Area frontal kart (m^2)\n"
      ],
      "outputs": [],
      "execution_count": 3,
      "metadata": {}
    },
    {
      "cell_type": "code",
      "source": [],
      "outputs": [],
      "execution_count": null,
      "metadata": {
        "collapsed": false,
        "outputHidden": false,
        "inputHidden": false
      }
    }
  ],
  "metadata": {
    "kernelspec": {
      "name": "python3",
      "language": "python",
      "display_name": "Python 3"
    },
    "kernel_info": {
      "name": "python3"
    },
    "language_info": {
      "codemirror_mode": {
        "name": "ipython",
        "version": 3
      },
      "nbconvert_exporter": "python",
      "mimetype": "text/x-python",
      "name": "python",
      "version": "3.5.2",
      "file_extension": ".py",
      "pygments_lexer": "ipython3"
    },
    "nteract": {
      "version": "0.7.1"
    }
  },
  "nbformat": 4,
  "nbformat_minor": 4
}